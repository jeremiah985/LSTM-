{
 "cells": [
  {
   "cell_type": "code",
   "execution_count": 1,
   "metadata": {},
   "outputs": [
    {
     "name": "stderr",
     "output_type": "stream",
     "text": [
      "The chromedriver version (131.0.6778.140) detected in PATH at C:\\Windows\\chromedriver.exe might not be compatible with the detected chrome version (131.0.6778.205); currently, chromedriver 131.0.6778.204 is recommended for chrome 131.*, so it is advised to delete the driver in PATH and retry\n"
     ]
    },
    {
     "name": "stdout",
     "output_type": "stream",
     "text": [
      "数据已保存到 'gwm_stock_close_price.csv'\n",
      "          Date Close Price\n",
      "0          累计：        4.50\n",
      "1   2024-12-23       26.65\n",
      "2   2024-12-20       26.75\n",
      "3   2024-12-19       27.14\n",
      "4   2024-12-18       27.31\n",
      "..         ...         ...\n",
      "76  2024-08-29       22.31\n",
      "77  2024-08-28       21.83\n",
      "78  2024-08-27       22.22\n",
      "79  2024-08-26       22.36\n",
      "80  2024-08-23       22.47\n",
      "\n",
      "[81 rows x 2 columns]\n"
     ]
    }
   ],
   "source": [
    "from selenium import webdriver\n",
    "from selenium.webdriver.common.by import By\n",
    "from bs4 import BeautifulSoup\n",
    "import pandas as pd\n",
    "import time\n",
    "\n",
    "\n",
    "# 启动浏览器\n",
    "driver = webdriver.Chrome()\n",
    "\n",
    "# 目标网站\n",
    "url = 'http://q.stock.sohu.com/cn/601633/lshq.shtml'\n",
    "driver.get(url)\n",
    "\n",
    "# 等待 JavaScript 加载完成\n",
    "time.sleep(5)  # 根据网速调整等待时间\n",
    "\n",
    "# 获取动态加载后的 HTML 页面内容\n",
    "html = driver.page_source\n",
    "\n",
    "# 使用 BeautifulSoup 解析 HTML\n",
    "soup = BeautifulSoup(html, 'html.parser')\n",
    "\n",
    "# 查找历史行情表格\n",
    "table = soup.find('table', {'class': 'tableQ', 'id': 'BIZ_hq_historySearch'})\n",
    "\n",
    "# 提取数据\n",
    "data = []\n",
    "rows = table.find('tbody').find_all('tr')  # 找到表格中的所有行\n",
    "for row in rows:\n",
    "    cols = row.find_all('td')\n",
    "    if len(cols) >= 3:  # 确保列数据完整\n",
    "        date = cols[0].text.strip()        # 日期\n",
    "        close_price = cols[2].text.strip() # 收盘价\n",
    "        data.append([date, close_price])\n",
    "\n",
    "# 关闭浏览器\n",
    "driver.quit()\n",
    "\n",
    "# 保存数据到 DataFrame\n",
    "df = pd.DataFrame(data, columns=['Date', 'Close Price'])\n",
    "\n",
    "# 按日期排序并保存为 CSV 文件\n",
    "df = df.sort_values(by='Date', ascending=False)\n",
    "df.to_csv('gwm_stock_close_price.csv', index=False, encoding='utf-8-sig')\n",
    "\n",
    "print(\"数据已保存到 'gwm_stock_close_price.csv'\")\n",
    "print(df)\n"
   ]
  }
 ],
 "metadata": {
  "kernelspec": {
   "display_name": "vir",
   "language": "python",
   "name": "python3"
  },
  "language_info": {
   "codemirror_mode": {
    "name": "ipython",
    "version": 3
   },
   "file_extension": ".py",
   "mimetype": "text/x-python",
   "name": "python",
   "nbconvert_exporter": "python",
   "pygments_lexer": "ipython3",
   "version": "3.7.16"
  }
 },
 "nbformat": 4,
 "nbformat_minor": 2
}
